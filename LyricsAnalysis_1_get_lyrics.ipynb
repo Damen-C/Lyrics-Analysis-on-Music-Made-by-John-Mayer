{
 "cells": [
  {
   "cell_type": "code",
   "execution_count": 2,
   "id": "68b4a6ab",
   "metadata": {},
   "outputs": [],
   "source": [
    "# Store the API in a variable \n",
    "CLIENT_ACCESS_TOKEN = \"YOUR API KEY\""
   ]
  },
  {
   "cell_type": "code",
   "execution_count": 3,
   "id": "6a331598",
   "metadata": {},
   "outputs": [],
   "source": [
    "import lyricsgenius\n",
    "LyricsGenius = lyricsgenius.Genius(CLIENT_ACCESS_TOKEN)"
   ]
  },
  {
   "cell_type": "code",
   "execution_count": null,
   "id": "219cff25-90df-45e3-a0b6-6cfafdef3089",
   "metadata": {},
   "outputs": [],
   "source": [
    "artist = LyricsGenius.search_artist(\"John Mayer\")"
   ]
  },
  {
   "cell_type": "code",
   "execution_count": null,
   "id": "aaa246f3",
   "metadata": {},
   "outputs": [],
   "source": [
    "artist.save_lyrics()"
   ]
  }
 ],
 "metadata": {
  "kernelspec": {
   "display_name": "Python 3 (ipykernel)",
   "language": "python",
   "name": "python3"
  },
  "language_info": {
   "codemirror_mode": {
    "name": "ipython",
    "version": 3
   },
   "file_extension": ".py",
   "mimetype": "text/x-python",
   "name": "python",
   "nbconvert_exporter": "python",
   "pygments_lexer": "ipython3",
   "version": "3.8.13"
  }
 },
 "nbformat": 4,
 "nbformat_minor": 5
}
