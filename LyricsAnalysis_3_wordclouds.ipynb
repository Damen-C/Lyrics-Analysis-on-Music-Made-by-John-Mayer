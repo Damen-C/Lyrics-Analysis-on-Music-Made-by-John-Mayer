{
 "cells": [
  {
   "cell_type": "code",
   "execution_count": 1,
   "id": "ab470edd-8933-43a1-9416-c486e165d9c5",
   "metadata": {},
   "outputs": [],
   "source": [
    "import json \n",
    "import pandas as pd"
   ]
  },
  {
   "cell_type": "code",
   "execution_count": 2,
   "id": "384501ec-d195-4348-8594-920d5bdbeae7",
   "metadata": {},
   "outputs": [],
   "source": [
    "with open (\"Lyrics_JohnMayer.json\") as file:\n",
    "    \n",
    "    data = json.load(file)\n",
    "    \n",
    "    master_list = []\n",
    "    \n",
    "    for row in data['songs']:\n",
    "        \n",
    "        temp_dict = {}\n",
    "        \n",
    "        try: \n",
    "            temp_dict[\"title\"] = row[\"title\"]\n",
    "        except:\n",
    "            temp_dict[\"title\"] = None\n",
    "        \n",
    "        try: \n",
    "            temp_dict[\"release_date\"] = row[\"release_date\"]\n",
    "        except: \n",
    "            temp_dict[\"release_date\"] = None\n",
    "            \n",
    "        try: \n",
    "            temp_dict[\"album\"] = row[\"album\"][\"name\"]\n",
    "        except: \n",
    "            temp_dict[\"album\"] = None\n",
    "            \n",
    "        try:     \n",
    "            temp_dict[\"lyrics\"] = row[\"lyrics\"]\n",
    "        except: \n",
    "            temp_dict[\"lyrics\"] = None\n",
    "        \n",
    "        master_list.append(temp_dict)"
   ]
  },
  {
   "cell_type": "code",
   "execution_count": 3,
   "id": "504f076d-2133-4a0d-95c7-b0210c10cfc7",
   "metadata": {},
   "outputs": [],
   "source": [
    "df = pd.DataFrame(master_list)"
   ]
  },
  {
   "cell_type": "code",
   "execution_count": 4,
   "id": "7d4077c6-90d8-4684-8cc3-bdc3be9e6f28",
   "metadata": {},
   "outputs": [],
   "source": [
    "df.dropna(inplace=True)"
   ]
  },
  {
   "cell_type": "code",
   "execution_count": 5,
   "id": "8d5ae461-0399-4ca5-95fd-d937a4b4a3f6",
   "metadata": {},
   "outputs": [],
   "source": [
    "df['release_date'] = pd.to_datetime(df.release_date, format='%Y-%m-%d')"
   ]
  },
  {
   "cell_type": "code",
   "execution_count": 6,
   "id": "27ec427b-ac3a-483f-8680-3d0f745632b2",
   "metadata": {},
   "outputs": [],
   "source": [
    "df[\"year\"] = df[\"release_date\"].dt.strftime('%Y')"
   ]
  },
  {
   "cell_type": "code",
   "execution_count": 7,
   "id": "19353fd0-a577-4218-a53b-e76d6d7d0237",
   "metadata": {},
   "outputs": [],
   "source": [
    "pd.set_option('display.max_rows', None)"
   ]
  },
  {
   "cell_type": "code",
   "execution_count": 9,
   "id": "6326c408-70d5-4ade-8aaf-3d5d43e2ac6c",
   "metadata": {},
   "outputs": [],
   "source": [
    "# df"
   ]
  },
  {
   "cell_type": "code",
   "execution_count": 11,
   "id": "7a634a83-dd51-4587-9d33-88a4b5bf26be",
   "metadata": {},
   "outputs": [],
   "source": [
    "df.to_pickle(\"Mayer.pkl\")"
   ]
  },
  {
   "cell_type": "code",
   "execution_count": 3,
   "id": "46342dbb-ccd6-43cc-902c-5691dd4e6b27",
   "metadata": {},
   "outputs": [],
   "source": [
    "# df.lyrics[0]"
   ]
  },
  {
   "cell_type": "code",
   "execution_count": 4,
   "id": "fc85db2b-71ba-45ea-98e0-7ff1d03851d8",
   "metadata": {},
   "outputs": [],
   "source": [
    "# df.lyrics[1]"
   ]
  },
  {
   "cell_type": "code",
   "execution_count": 10,
   "id": "643cbee8-7365-4aba-9589-4d34f9e28b30",
   "metadata": {},
   "outputs": [],
   "source": [
    "import re\n",
    "from nltk.corpus import stopwords\n",
    "stop_words = set(stopwords.words('english'))\n",
    "custom_stop_words = ['oh', 'yeah', 'ah', 'ay', 'ooh']\n",
    "stop_words.update(custom_stop_words)\n",
    "\n",
    "def clean_lyrics(lyrics):\n",
    "    # Remove text inside brackets and parentheses\n",
    "    lyrics = re.sub(r'\\[.*?\\]|\\(.*?\\)', '', lyrics)\n",
    "    # Remove numbers\n",
    "    lyrics = re.sub(r'\\d+', '', lyrics)\n",
    "    # Remove punctuations and newline characters\n",
    "    lyrics = re.sub(r'[^\\w\\s]', '', lyrics).replace('\\n', ' ')\n",
    "    # Convert to lowercase\n",
    "    lyrics = lyrics.lower()\n",
    "    \n",
    "     # Remove stop words\n",
    "    lyrics = ' '.join([word for word in lyrics.split() if word not in stop_words])\n",
    "    \n",
    "    # Split words containing \"embed\" and keep only the non-\"embed\" part\n",
    "    lyrics = ' '.join([word.split('embed')[0] if 'embed' in word else word for word in lyrics.split()])\n",
    "    \n",
    "    return lyrics.strip()\n",
    "\n",
    "# Example usage\n",
    "df['clean_lyrics'] = df['lyrics'].apply(clean_lyrics)\n"
   ]
  },
  {
   "cell_type": "code",
   "execution_count": 5,
   "id": "2bb4a109-a24b-4995-a95b-94f350ab748f",
   "metadata": {},
   "outputs": [],
   "source": [
    "# df.clean_lyrics[0]"
   ]
  },
  {
   "cell_type": "code",
   "execution_count": 6,
   "id": "bb9e7cf8-9c6c-440f-9851-43906dbf8a82",
   "metadata": {},
   "outputs": [],
   "source": [
    "# df.clean_lyrics[3]"
   ]
  },
  {
   "cell_type": "code",
   "execution_count": 13,
   "id": "19ad2272-7d7c-4bb4-bf5c-925b68dc2627",
   "metadata": {},
   "outputs": [],
   "source": [
    "df.to_pickle(\"Mayer_cleaned.pkl\")"
   ]
  },
  {
   "cell_type": "code",
   "execution_count": 14,
   "id": "4fc9a5c8-ded0-44e6-9ae7-7349c2cc32ab",
   "metadata": {},
   "outputs": [
    {
     "data": {
      "text/html": [
       "<div>\n",
       "<style scoped>\n",
       "    .dataframe tbody tr th:only-of-type {\n",
       "        vertical-align: middle;\n",
       "    }\n",
       "\n",
       "    .dataframe tbody tr th {\n",
       "        vertical-align: top;\n",
       "    }\n",
       "\n",
       "    .dataframe thead th {\n",
       "        text-align: right;\n",
       "    }\n",
       "</style>\n",
       "<table border=\"1\" class=\"dataframe\">\n",
       "  <thead>\n",
       "    <tr style=\"text-align: right;\">\n",
       "      <th></th>\n",
       "      <th>album</th>\n",
       "      <th>count</th>\n",
       "    </tr>\n",
       "  </thead>\n",
       "  <tbody>\n",
       "    <tr>\n",
       "      <th>0</th>\n",
       "      <td>Born and Raised</td>\n",
       "      <td>13</td>\n",
       "    </tr>\n",
       "    <tr>\n",
       "      <th>1</th>\n",
       "      <td>Continuum</td>\n",
       "      <td>13</td>\n",
       "    </tr>\n",
       "    <tr>\n",
       "      <th>2</th>\n",
       "      <td>Room For Squares [Japanese Edition]</td>\n",
       "      <td>13</td>\n",
       "    </tr>\n",
       "    <tr>\n",
       "      <th>3</th>\n",
       "      <td>Battle Studies</td>\n",
       "      <td>12</td>\n",
       "    </tr>\n",
       "    <tr>\n",
       "      <th>4</th>\n",
       "      <td>The Search for Everything</td>\n",
       "      <td>12</td>\n",
       "    </tr>\n",
       "    <tr>\n",
       "      <th>5</th>\n",
       "      <td>Paradise Valley</td>\n",
       "      <td>11</td>\n",
       "    </tr>\n",
       "    <tr>\n",
       "      <th>6</th>\n",
       "      <td>Sob Rock</td>\n",
       "      <td>10</td>\n",
       "    </tr>\n",
       "    <tr>\n",
       "      <th>7</th>\n",
       "      <td>Heavier Things</td>\n",
       "      <td>9</td>\n",
       "    </tr>\n",
       "    <tr>\n",
       "      <th>8</th>\n",
       "      <td>Inside Wants Out</td>\n",
       "      <td>5</td>\n",
       "    </tr>\n",
       "    <tr>\n",
       "      <th>9</th>\n",
       "      <td>Where The Light Is: John Mayer Live in Los Ang...</td>\n",
       "      <td>5</td>\n",
       "    </tr>\n",
       "    <tr>\n",
       "      <th>10</th>\n",
       "      <td>Any Given Thursday</td>\n",
       "      <td>4</td>\n",
       "    </tr>\n",
       "    <tr>\n",
       "      <th>11</th>\n",
       "      <td>Waiting on the World to Change [Limited Editio...</td>\n",
       "      <td>1</td>\n",
       "    </tr>\n",
       "    <tr>\n",
       "      <th>12</th>\n",
       "      <td>Yes We Can: Voices of a Grassroots Movement</td>\n",
       "      <td>1</td>\n",
       "    </tr>\n",
       "  </tbody>\n",
       "</table>\n",
       "</div>"
      ],
      "text/plain": [
       "                                                album  count\n",
       "0                                     Born and Raised     13\n",
       "1                                           Continuum     13\n",
       "2                 Room For Squares [Japanese Edition]     13\n",
       "3                                      Battle Studies     12\n",
       "4                           The Search for Everything     12\n",
       "5                                     Paradise Valley     11\n",
       "6                                            Sob Rock     10\n",
       "7                                      Heavier Things      9\n",
       "8                                    Inside Wants Out      5\n",
       "9   Where The Light Is: John Mayer Live in Los Ang...      5\n",
       "10                                 Any Given Thursday      4\n",
       "11  Waiting on the World to Change [Limited Editio...      1\n",
       "12        Yes We Can: Voices of a Grassroots Movement      1"
      ]
     },
     "execution_count": 14,
     "metadata": {},
     "output_type": "execute_result"
    }
   ],
   "source": [
    "songs_by_album = df.groupby([df.album]).size().reset_index(name = 'count')\n",
    "songs_by_album.sort_values(by='count', ascending=False).reset_index(drop=True)"
   ]
  },
  {
   "cell_type": "code",
   "execution_count": 15,
   "id": "a4087dac-edb9-47ed-9312-2ee99ef4ee4a",
   "metadata": {},
   "outputs": [],
   "source": [
    "album_list = songs_by_album['album'].tolist()"
   ]
  },
  {
   "cell_type": "code",
   "execution_count": 16,
   "id": "e973b03f-b40a-47d6-a4e2-e38597936c83",
   "metadata": {},
   "outputs": [
    {
     "data": {
      "text/plain": [
       "['Any Given Thursday',\n",
       " 'Battle Studies',\n",
       " 'Born and Raised',\n",
       " 'Continuum',\n",
       " 'Heavier Things',\n",
       " 'Inside Wants Out',\n",
       " 'Paradise Valley',\n",
       " 'Room For Squares [Japanese Edition]',\n",
       " 'Sob Rock',\n",
       " 'The Search for Everything',\n",
       " 'Waiting on the World to Change [Limited Edition EP]',\n",
       " 'Where The Light Is: John Mayer Live in Los Angeles',\n",
       " 'Yes We Can: Voices of a Grassroots Movement']"
      ]
     },
     "execution_count": 16,
     "metadata": {},
     "output_type": "execute_result"
    }
   ],
   "source": [
    "# album_list"
   ]
  },
  {
   "cell_type": "code",
   "execution_count": 17,
   "id": "89eec04e-eee1-4d9f-a4c8-2730e9275b4e",
   "metadata": {},
   "outputs": [],
   "source": [
    "album_drop = ['Waiting on the World to Change [Limited Edition EP]','Yes We Can: Voices of a Grassroots Movement']"
   ]
  },
  {
   "cell_type": "code",
   "execution_count": 18,
   "id": "d08cf749-aa15-4f1e-a1ff-170e850dc929",
   "metadata": {},
   "outputs": [],
   "source": [
    "df = df[df.album.isin(album_drop) == False]"
   ]
  },
  {
   "cell_type": "code",
   "execution_count": 19,
   "id": "5db15579-3f93-4deb-9f35-eba89e5800b3",
   "metadata": {},
   "outputs": [
    {
     "data": {
      "text/html": [
       "<div>\n",
       "<style scoped>\n",
       "    .dataframe tbody tr th:only-of-type {\n",
       "        vertical-align: middle;\n",
       "    }\n",
       "\n",
       "    .dataframe tbody tr th {\n",
       "        vertical-align: top;\n",
       "    }\n",
       "\n",
       "    .dataframe thead th {\n",
       "        text-align: right;\n",
       "    }\n",
       "</style>\n",
       "<table border=\"1\" class=\"dataframe\">\n",
       "  <thead>\n",
       "    <tr style=\"text-align: right;\">\n",
       "      <th></th>\n",
       "      <th>album</th>\n",
       "      <th>count</th>\n",
       "    </tr>\n",
       "  </thead>\n",
       "  <tbody>\n",
       "    <tr>\n",
       "      <th>0</th>\n",
       "      <td>Born and Raised</td>\n",
       "      <td>13</td>\n",
       "    </tr>\n",
       "    <tr>\n",
       "      <th>1</th>\n",
       "      <td>Continuum</td>\n",
       "      <td>13</td>\n",
       "    </tr>\n",
       "    <tr>\n",
       "      <th>2</th>\n",
       "      <td>Room For Squares [Japanese Edition]</td>\n",
       "      <td>13</td>\n",
       "    </tr>\n",
       "    <tr>\n",
       "      <th>3</th>\n",
       "      <td>Battle Studies</td>\n",
       "      <td>12</td>\n",
       "    </tr>\n",
       "    <tr>\n",
       "      <th>4</th>\n",
       "      <td>The Search for Everything</td>\n",
       "      <td>12</td>\n",
       "    </tr>\n",
       "    <tr>\n",
       "      <th>5</th>\n",
       "      <td>Paradise Valley</td>\n",
       "      <td>11</td>\n",
       "    </tr>\n",
       "    <tr>\n",
       "      <th>6</th>\n",
       "      <td>Sob Rock</td>\n",
       "      <td>10</td>\n",
       "    </tr>\n",
       "    <tr>\n",
       "      <th>7</th>\n",
       "      <td>Heavier Things</td>\n",
       "      <td>9</td>\n",
       "    </tr>\n",
       "    <tr>\n",
       "      <th>8</th>\n",
       "      <td>Inside Wants Out</td>\n",
       "      <td>5</td>\n",
       "    </tr>\n",
       "    <tr>\n",
       "      <th>9</th>\n",
       "      <td>Where The Light Is: John Mayer Live in Los Ang...</td>\n",
       "      <td>5</td>\n",
       "    </tr>\n",
       "    <tr>\n",
       "      <th>10</th>\n",
       "      <td>Any Given Thursday</td>\n",
       "      <td>4</td>\n",
       "    </tr>\n",
       "  </tbody>\n",
       "</table>\n",
       "</div>"
      ],
      "text/plain": [
       "                                                album  count\n",
       "0                                     Born and Raised     13\n",
       "1                                           Continuum     13\n",
       "2                 Room For Squares [Japanese Edition]     13\n",
       "3                                      Battle Studies     12\n",
       "4                           The Search for Everything     12\n",
       "5                                     Paradise Valley     11\n",
       "6                                            Sob Rock     10\n",
       "7                                      Heavier Things      9\n",
       "8                                    Inside Wants Out      5\n",
       "9   Where The Light Is: John Mayer Live in Los Ang...      5\n",
       "10                                 Any Given Thursday      4"
      ]
     },
     "execution_count": 19,
     "metadata": {},
     "output_type": "execute_result"
    }
   ],
   "source": [
    "songs_by_album = df.groupby([df.album]).size().reset_index(name = 'count')\n",
    "songs_by_album.sort_values(by='count', ascending=False).reset_index(drop=True)"
   ]
  },
  {
   "cell_type": "code",
   "execution_count": 21,
   "id": "c674f1c8-3609-44e3-8d4f-4565782fb3cf",
   "metadata": {},
   "outputs": [],
   "source": [
    "grouped_lyrics = df.groupby('album')['clean_lyrics'].apply(lambda x: ' '.join(x)).reset_index()\n"
   ]
  },
  {
   "cell_type": "code",
   "execution_count": 7,
   "id": "214f70ad-1a32-446a-b7bf-23df100c8936",
   "metadata": {},
   "outputs": [],
   "source": [
    "# grouped_lyrics"
   ]
  },
  {
   "cell_type": "code",
   "execution_count": 23,
   "id": "72c18c58-6bc3-40e3-8ed3-d4a334ef60e6",
   "metadata": {},
   "outputs": [],
   "source": [
    "recent_year = df.groupby('album')['year'].max().reset_index()"
   ]
  },
  {
   "cell_type": "code",
   "execution_count": 24,
   "id": "b39bf6a4-1d38-4d7f-b5cf-cc09a2948bde",
   "metadata": {},
   "outputs": [],
   "source": [
    "songs_by_album = grouped_lyrics.merge(recent_year, on='album')"
   ]
  },
  {
   "cell_type": "code",
   "execution_count": 28,
   "id": "ea1e116d-de10-43bd-bfc2-e9efa69ed078",
   "metadata": {},
   "outputs": [],
   "source": [
    "songs_by_album = songs_by_album.sort_values('year', ascending=False, ignore_index=True)"
   ]
  },
  {
   "cell_type": "code",
   "execution_count": 8,
   "id": "53ff03ec-da44-40c3-8456-9d5d9c42bcee",
   "metadata": {},
   "outputs": [],
   "source": [
    "# songs_by_album"
   ]
  },
  {
   "cell_type": "code",
   "execution_count": 30,
   "id": "5d8781cf-d722-4c96-9027-f24d64274be0",
   "metadata": {},
   "outputs": [],
   "source": [
    "from wordcloud import WordCloud, STOPWORDS, ImageColorGenerator\n",
    "import numpy as np\n",
    "import matplotlib.pyplot as plt\n",
    "import PIL.Image\n",
    "\n"
   ]
  },
  {
   "cell_type": "code",
   "execution_count": 31,
   "id": "559a6cd0-d2e0-4a87-9976-47b786170f68",
   "metadata": {},
   "outputs": [],
   "source": [
    "mask = np.array(PIL.Image.open(\"guitar_6.png\"))\n",
    "colormap = ImageColorGenerator(mask)"
   ]
  },
  {
   "cell_type": "code",
   "execution_count": null,
   "id": "01be0a9b-a849-4103-bff2-96100be4acf5",
   "metadata": {},
   "outputs": [],
   "source": [
    "wordcloud = WordCloud(stopwords = STOPWORDS,\n",
    "                      width=800, height=800,\n",
    "                      mask = mask,\n",
    "                      background_color = 'white',\n",
    "                      contour_color = 'black',\n",
    "                      contour_width = 2,\n",
    "                      min_font_size = 3,\n",
    "                      max_words = 400).generate(songs_by_album.loc[0, 'clean_lyrics'])\n",
    "\n",
    "wordcloud.recolor(color_func = colormap)\n",
    "plt.imshow(wordcloud) #interpolation = 'bilinear')\n",
    "plt.axis(\"off\")\n",
    "plt.title(\"Any Given Thursday\", fontsize=15)\n",
    "plt.show()"
   ]
  },
  {
   "cell_type": "code",
   "execution_count": null,
   "id": "2430012a-5e4e-4c84-b370-bee9ab5642ae",
   "metadata": {},
   "outputs": [],
   "source": [
    "# Create a 5x2 grid of subplots\n",
    "fig, axs = plt.subplots(nrows=3, ncols=4, figsize=(30, 25))\n",
    "fig.delaxes(axs[2,3])\n",
    "\n",
    "for i in range(len(grouped_lyrics)):\n",
    "    \n",
    "    wordcloud = WordCloud(stopwords = set(list(STOPWORDS)+[\"im\", \"got\"]),\n",
    "                      width=1000, height=800,\n",
    "                      mask = mask,\n",
    "                      background_color = 'white',\n",
    "                      contour_color = 'black',\n",
    "                      contour_width = 2,\n",
    "                      min_font_size = 3,\n",
    "                      max_words = 400).generate(songs_by_album.loc[i, 'clean_lyrics'])\n",
    "\n",
    "    wordcloud.recolor(color_func = colormap)\n",
    "\n",
    "# Add a title to the word cloud with the corresponding album name\n",
    "    album_title = songs_by_album.loc[i, 'album'] + '\\n-Release Year '+ songs_by_album.loc[i, 'year'] \n",
    "    axs[i // 4, i % 4].set_title(album_title, fontsize=20)\n",
    "    axs[i // 4, i % 4].imshow(wordcloud)\n",
    "    axs[i // 4, i % 4].axis('off')\n",
    "    \n",
    "\n",
    "# Save the figure as a PNG file\n",
    "plt.savefig('wordclouds.png', dpi=300, bbox_inches='tight')"
   ]
  }
 ],
 "metadata": {
  "kernelspec": {
   "display_name": "Python 3 (ipykernel)",
   "language": "python",
   "name": "python3"
  },
  "language_info": {
   "codemirror_mode": {
    "name": "ipython",
    "version": 3
   },
   "file_extension": ".py",
   "mimetype": "text/x-python",
   "name": "python",
   "nbconvert_exporter": "python",
   "pygments_lexer": "ipython3",
   "version": "3.8.13"
  }
 },
 "nbformat": 4,
 "nbformat_minor": 5
}
