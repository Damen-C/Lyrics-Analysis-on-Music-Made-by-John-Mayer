{
 "cells": [
  {
   "cell_type": "code",
   "execution_count": 2,
   "id": "68b4a6ab",
   "metadata": {},
   "outputs": [],
   "source": [
    "# Store the API in a variable \n",
    "CLIENT_ACCESS_TOKEN = \"YOUR OWN TOKEN""
   ]
  },
  {
   "cell_type": "code",
   "execution_count": 3,
   "id": "6a331598",
   "metadata": {},
   "outputs": [],
   "source": [
    "import lyricsgenius\n",
    "LyricsGenius = lyricsgenius.Genius(CLIENT_ACCESS_TOKEN)"
   ]
  },
  {
   "cell_type": "code",
   "execution_count": 5,
   "id": "068079bd",
   "metadata": {},
   "outputs": [
    {
     "name": "stdout",
     "output_type": "stream",
     "text": [
      "Searching for songs by John Mayer...\n",
      "\n"
     ]
    },
  
  {
   "cell_type": "code",
   "execution_count": null,
   "id": "aaa246f3",
   "metadata": {},
   "outputs": [],
   "source": [
    "artist.save_lyrics()"
   ]
  }
 ],
 "metadata": {
  "kernelspec": {
   "display_name": "Python 3 (ipykernel)",
   "language": "python",
   "name": "python3"
  },
  "language_info": {
   "codemirror_mode": {
    "name": "ipython",
    "version": 3
   },
   "file_extension": ".py",
   "mimetype": "text/x-python",
   "name": "python",
   "nbconvert_exporter": "python",
   "pygments_lexer": "ipython3",
   "version": "3.10.2"
  }
 },
 "nbformat": 4,
 "nbformat_minor": 5
}
